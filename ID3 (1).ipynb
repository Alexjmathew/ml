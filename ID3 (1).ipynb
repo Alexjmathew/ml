{
  "nbformat": 4,
  "nbformat_minor": 0,
  "metadata": {
    "colab": {
      "provenance": []
    },
    "kernelspec": {
      "name": "python3",
      "display_name": "Python 3"
    },
    "language_info": {
      "name": "python"
    }
  },
  "cells": [
    {
      "cell_type": "code",
      "execution_count": null,
      "metadata": {
        "id": "DKtythJl9g7I"
      },
      "outputs": [],
      "source": [
        "import pandas as pd\n",
        "from sklearn.tree import DecisionTreeClassifier, plot_tree\n",
        "from sklearn.preprocessing import LabelEncoder\n",
        "from sklearn.model_selection import train_test_split\n",
        "import matplotlib.pyplot as plt\n",
        "import sys\n",
        "\n",
        "data = pd.read_csv(\"PlayTennis.csv\")\n",
        "X = data.iloc[:, :-1]\n",
        "y = data.iloc[:, -1]\n",
        "\n",
        "le = LabelEncoder()\n",
        "X_encoded = X.apply(le.fit_transform)\n",
        "\n",
        "X_train, X_test, y_train, y_test = train_test_split(X_encoded, y, test_size=0.2, random_state=42)\n",
        "\n",
        "clf = DecisionTreeClassifier(criterion='entropy', random_state=42)\n",
        "clf.fit(X_train, y_train)\n",
        "\n",
        "accuracy = clf.score(X_test, y_test)\n",
        "print(f\"Model Accuracy: {accuracy:.2f}\")\n",
        "\n",
        "def classify_sample(sample):\n",
        "    encoded_sample = [le.fit_transform(X[col])[le.transform([sample[col]])[0]] for col in X.columns]\n",
        "    prediction = clf.predict([encoded_sample])[0]\n",
        "    return prediction\n",
        "\n",
        "print(\"\\nFeature importances:\")\n",
        "for feature, importance in zip(X.columns, clf.feature_importances_):\n",
        "    print(f\"{feature}: {importance:.4f}\")\n",
        "\n",
        "while True:\n",
        "    print(\"\\nEnter a new sample to classify (or 'quit' to exit):\")\n",
        "    sample = {}\n",
        "    for col in X.columns:\n",
        "        value = input(f\"Enter value for {col}: \")\n",
        "        if value.lower() == 'quit':\n",
        "            sys.exit()\n",
        "        sample[col] = value\n",
        "    result = classify_sample(sample)\n",
        "    print(f\"Classification: {result}\")\n",
        "\n",
        "plt.figure(figsize=(20, 10))\n",
        "plot_tree(clf, feature_names=X.columns, class_names=clf.classes_, filled=True, rounded=True)\n",
        "plt.savefig('playtennis_decision_tree.png')\n",
        "print(\"Decision tree visualization saved as 'playtennis_decision_tree.png'\")\n"
      ]
    }
  ]
}
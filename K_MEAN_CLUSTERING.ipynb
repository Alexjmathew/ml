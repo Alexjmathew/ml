{
  "nbformat": 4,
  "nbformat_minor": 0,
  "metadata": {
    "colab": {
      "provenance": []
    },
    "kernelspec": {
      "name": "python3",
      "display_name": "Python 3"
    },
    "language_info": {
      "name": "python"
    }
  },
  "cells": [
    {
      "cell_type": "code",
      "execution_count": null,
      "metadata": {
        "id": "pLrpnoE8883x"
      },
      "outputs": [],
      "source": [
        "import pandas as pd\n",
        "import matplotlib.pyplot as plt\n",
        "from sklearn.datasets import load_iris\n",
        "from sklearn.cluster import KMeans\n",
        "from sklearn.preprocessing import StandardScaler\n",
        "\n",
        "iris = load_iris()\n",
        "X = pd.DataFrame(iris.data, columns=iris.feature_names)\n",
        "\n",
        "scaler = StandardScaler()\n",
        "X_scaled = scaler.fit_transform(X)\n",
        "\n",
        "kmeans = KMeans(n_clusters=3, random_state=42)\n",
        "kmeans.fit(X_scaled)\n",
        "\n",
        "clusters = kmeans.predict(X_scaled)\n",
        "X['Cluster'] = clusters\n",
        "\n",
        "plt.figure(figsize=(10, 6))\n",
        "plt.scatter(X.iloc[:, 0], X.iloc[:, 1], c=X['Cluster'], cmap='viridis', s=50)\n",
        "plt.title('K-Means Clustering on Iris Dataset')\n",
        "plt.xlabel('Sepal Length (standardized)')\n",
        "plt.ylabel('Sepal Width (standardized)')\n",
        "\n",
        "centroids = kmeans.cluster_centers_\n",
        "centroids_2d = centroids[:, :2]\n",
        "plt.scatter(centroids_2d[:, 0], centroids_2d[:, 1], c='red', marker='X', s=200, label='Centroids')\n",
        "plt.legend()\n",
        "plt.show()\n"
      ]
    }
  ]
}
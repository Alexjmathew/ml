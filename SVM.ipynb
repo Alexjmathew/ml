{
  "nbformat": 4,
  "nbformat_minor": 0,
  "metadata": {
    "colab": {
      "provenance": []
    },
    "kernelspec": {
      "name": "python3",
      "display_name": "Python 3"
    },
    "language_info": {
      "name": "python"
    }
  },
  "cells": [
    {
      "cell_type": "code",
      "execution_count": null,
      "metadata": {
        "id": "JezW3Mrh9T2L"
      },
      "outputs": [],
      "source": [
        "import pandas as pd\n",
        "import numpy as np\n",
        "from sklearn.model_selection import train_test_split\n",
        "from sklearn.svm import SVR\n",
        "from sklearn.metrics import mean_squared_error\n",
        "\n",
        "data = pd.read_csv('data.csv')\n",
        "X = data.drop('y', axis=1)\n",
        "y = data['y']\n",
        "\n",
        "if y.isnull().any():\n",
        "    data = data.dropna(subset=['y'])\n",
        "    X = data.drop('y', axis=1)\n",
        "    y = data['y']\n",
        "\n",
        "X_train, X_test, y_train, y_test = train_test_split(X, y, test_size=0.2, random_state=42)\n",
        "\n",
        "svm_reg = SVR(kernel='rbf', C=1, gamma='scale')\n",
        "svm_reg.fit(X_train, y_train)\n",
        "\n",
        "y_pred = svm_reg.predict(X_test)\n",
        "\n",
        "mse = mean_squared_error(y_test, y_pred)\n",
        "print(f\"Mean Squared Error: {mse:.2f}\")\n"
      ]
    }
  ]
}
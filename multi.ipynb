{
  "nbformat": 4,
  "nbformat_minor": 0,
  "metadata": {
    "colab": {
      "provenance": []
    },
    "kernelspec": {
      "name": "python3",
      "display_name": "Python 3"
    },
    "language_info": {
      "name": "python"
    }
  },
  "cells": [
    {
      "cell_type": "code",
      "execution_count": 1,
      "metadata": {
        "id": "Gko-UBghxfKk"
      },
      "outputs": [],
      "source": [
        "import numpy as np\n",
        "from sklearn.linear_model import LinearRegression\n",
        "from sklearn.model_selection import train_test_split\n",
        "from sklearn.metrics import mean_squared_error, r2_score\n",
        "import matplotlib.pyplot as plt\n"
      ]
    },
    {
      "cell_type": "code",
      "source": [
        "np.random.seed(0)\n",
        "X = np.random.rand(100, 3)\n",
        "y = 2 + 3*X[:, 0] + 1.5*X[:, 1] + 0.5*X[:, 2] + np.random.randn(100)*0.1\n"
      ],
      "metadata": {
        "id": "mSpnVCPixmhH"
      },
      "execution_count": 2,
      "outputs": []
    },
    {
      "cell_type": "code",
      "source": [
        "print(X)\n",
        "print(y)"
      ],
      "metadata": {
        "colab": {
          "base_uri": "https://localhost:8080/"
        },
        "id": "EGykRpcLxq7P",
        "outputId": "acead372-cb96-4806-f18a-3cc5d0f10bda"
      },
      "execution_count": 3,
      "outputs": [
        {
          "output_type": "stream",
          "name": "stdout",
          "text": [
            "[[0.5488135  0.71518937 0.60276338]\n",
            " [0.54488318 0.4236548  0.64589411]\n",
            " [0.43758721 0.891773   0.96366276]\n",
            " [0.38344152 0.79172504 0.52889492]\n",
            " [0.56804456 0.92559664 0.07103606]\n",
            " [0.0871293  0.0202184  0.83261985]\n",
            " [0.77815675 0.87001215 0.97861834]\n",
            " [0.79915856 0.46147936 0.78052918]\n",
            " [0.11827443 0.63992102 0.14335329]\n",
            " [0.94466892 0.52184832 0.41466194]\n",
            " [0.26455561 0.77423369 0.45615033]\n",
            " [0.56843395 0.0187898  0.6176355 ]\n",
            " [0.61209572 0.616934   0.94374808]\n",
            " [0.6818203  0.3595079  0.43703195]\n",
            " [0.6976312  0.06022547 0.66676672]\n",
            " [0.67063787 0.21038256 0.1289263 ]\n",
            " [0.31542835 0.36371077 0.57019677]\n",
            " [0.43860151 0.98837384 0.10204481]\n",
            " [0.20887676 0.16130952 0.65310833]\n",
            " [0.2532916  0.46631077 0.24442559]\n",
            " [0.15896958 0.11037514 0.65632959]\n",
            " [0.13818295 0.19658236 0.36872517]\n",
            " [0.82099323 0.09710128 0.83794491]\n",
            " [0.09609841 0.97645947 0.4686512 ]\n",
            " [0.97676109 0.60484552 0.73926358]\n",
            " [0.03918779 0.28280696 0.12019656]\n",
            " [0.2961402  0.11872772 0.31798318]\n",
            " [0.41426299 0.0641475  0.69247212]\n",
            " [0.56660145 0.26538949 0.52324805]\n",
            " [0.09394051 0.5759465  0.9292962 ]\n",
            " [0.31856895 0.66741038 0.13179786]\n",
            " [0.7163272  0.28940609 0.18319136]\n",
            " [0.58651293 0.02010755 0.82894003]\n",
            " [0.00469548 0.67781654 0.27000797]\n",
            " [0.73519402 0.96218855 0.24875314]\n",
            " [0.57615733 0.59204193 0.57225191]\n",
            " [0.22308163 0.95274901 0.44712538]\n",
            " [0.84640867 0.69947928 0.29743695]\n",
            " [0.81379782 0.39650574 0.8811032 ]\n",
            " [0.58127287 0.88173536 0.69253159]\n",
            " [0.72525428 0.50132438 0.95608363]\n",
            " [0.6439902  0.42385505 0.60639321]\n",
            " [0.0191932  0.30157482 0.66017354]\n",
            " [0.29007761 0.61801543 0.4287687 ]\n",
            " [0.13547406 0.29828233 0.56996491]\n",
            " [0.59087276 0.57432525 0.65320082]\n",
            " [0.65210327 0.43141844 0.8965466 ]\n",
            " [0.36756187 0.43586493 0.89192336]\n",
            " [0.80619399 0.70388858 0.10022689]\n",
            " [0.91948261 0.7142413  0.99884701]\n",
            " [0.1494483  0.86812606 0.16249293]\n",
            " [0.61555956 0.12381998 0.84800823]\n",
            " [0.80731896 0.56910074 0.4071833 ]\n",
            " [0.069167   0.69742877 0.45354268]\n",
            " [0.7220556  0.86638233 0.97552151]\n",
            " [0.85580334 0.01171408 0.35997806]\n",
            " [0.72999056 0.17162968 0.52103661]\n",
            " [0.05433799 0.19999652 0.01852179]\n",
            " [0.7936977  0.22392469 0.34535168]\n",
            " [0.92808129 0.7044144  0.03183893]\n",
            " [0.16469416 0.6214784  0.57722859]\n",
            " [0.23789282 0.934214   0.61396596]\n",
            " [0.5356328  0.58990998 0.73012203]\n",
            " [0.311945   0.39822106 0.20984375]\n",
            " [0.18619301 0.94437239 0.7395508 ]\n",
            " [0.49045881 0.22741463 0.25435648]\n",
            " [0.05802916 0.43441663 0.31179588]\n",
            " [0.69634349 0.37775184 0.17960368]\n",
            " [0.02467873 0.06724963 0.67939277]\n",
            " [0.45369684 0.53657921 0.89667129]\n",
            " [0.99033895 0.21689698 0.6630782 ]\n",
            " [0.26332238 0.020651   0.75837865]\n",
            " [0.32001715 0.38346389 0.58831711]\n",
            " [0.83104846 0.62898184 0.87265066]\n",
            " [0.27354203 0.79804683 0.18563594]\n",
            " [0.95279166 0.68748828 0.21550768]\n",
            " [0.94737059 0.73085581 0.25394164]\n",
            " [0.21331198 0.51820071 0.02566272]\n",
            " [0.20747008 0.42468547 0.37416998]\n",
            " [0.46357542 0.27762871 0.58678435]\n",
            " [0.86385561 0.11753186 0.51737911]\n",
            " [0.13206811 0.71685968 0.3960597 ]\n",
            " [0.56542131 0.18327984 0.14484776]\n",
            " [0.48805628 0.35561274 0.94043195]\n",
            " [0.76532525 0.74866362 0.90371974]\n",
            " [0.08342244 0.55219247 0.58447607]\n",
            " [0.96193638 0.29214753 0.24082878]\n",
            " [0.10029394 0.01642963 0.92952932]\n",
            " [0.66991655 0.78515291 0.28173011]\n",
            " [0.58641017 0.06395527 0.4856276 ]\n",
            " [0.97749514 0.87650525 0.33815895]\n",
            " [0.96157015 0.23170163 0.94931882]\n",
            " [0.9413777  0.79920259 0.63044794]\n",
            " [0.87428797 0.29302028 0.84894356]\n",
            " [0.61787669 0.01323686 0.34723352]\n",
            " [0.14814086 0.98182939 0.47837031]\n",
            " [0.49739137 0.63947252 0.36858461]\n",
            " [0.13690027 0.82211773 0.18984791]\n",
            " [0.51131898 0.22431703 0.09784448]\n",
            " [0.86219152 0.97291949 0.96083466]]\n",
            "[5.0362569  4.61629691 5.07252091 4.5785674  4.98564058 2.65869343\n",
            " 6.0745115  5.52156433 3.27076321 5.90223001 4.33254099 3.83530579\n",
            " 5.27618808 4.87092953 4.45287145 4.35222342 3.76366154 4.81960861\n",
            " 3.16424741 3.41395338 3.08586941 3.00174684 4.94626763 3.84066759\n",
            " 6.25928982 2.5442933  3.23969908 3.65331345 4.4286665  3.67986429\n",
            " 3.95016162 4.53635004 4.0458763  3.22685316 5.65435553 4.85197922\n",
            " 4.2622997  5.73190668 5.28307569 5.43156532 5.45818033 4.87979199\n",
            " 2.80893997 4.02138033 3.17873277 4.68344729 5.24730199 4.24145401\n",
            " 5.45928743 6.29013796 3.88115465 4.44480239 5.27613119 3.68686477\n",
            " 5.94244697 4.86698746 4.63872952 2.62590736 4.91829035 5.91766933\n",
            " 3.61038903 4.54309697 4.9258062  3.76827308 4.28210424 3.8915739\n",
            " 3.21200203 4.63945848 2.50101205 4.72798413 5.63767392 3.25842832\n",
            " 3.78946095 5.90994905 3.97986164 6.16317429 6.0535499  3.36205054\n",
            " 3.51316173 4.05448953 4.89312831 3.53485194 4.11298488 4.45184658\n",
            " 5.85746091 3.47856843 5.33176223 2.71722315 5.28985608 4.10741235\n",
            " 6.41210562 5.6782336  6.33199832 5.47613558 3.97514168 4.07505252\n",
            " 4.66312681 3.64970986 3.80361921 6.49514189]\n"
          ]
        }
      ]
    },
    {
      "cell_type": "code",
      "source": [
        "X_train, X_test, y_train, y_test = train_test_split(X, y, test_size=0.2, random_state=42)\n"
      ],
      "metadata": {
        "id": "ivYSyXSqxtyB"
      },
      "execution_count": 4,
      "outputs": []
    },
    {
      "cell_type": "code",
      "source": [
        "model = LinearRegression()\n",
        "model.fit(X_train, y_train)\n"
      ],
      "metadata": {
        "colab": {
          "base_uri": "https://localhost:8080/",
          "height": 74
        },
        "id": "8uAv4nSrx6tv",
        "outputId": "271f5da2-6fca-42ea-c088-19ec8d4aaa0c"
      },
      "execution_count": 5,
      "outputs": [
        {
          "output_type": "execute_result",
          "data": {
            "text/plain": [
              "LinearRegression()"
            ],
            "text/html": [
              "<style>#sk-container-id-1 {color: black;}#sk-container-id-1 pre{padding: 0;}#sk-container-id-1 div.sk-toggleable {background-color: white;}#sk-container-id-1 label.sk-toggleable__label {cursor: pointer;display: block;width: 100%;margin-bottom: 0;padding: 0.3em;box-sizing: border-box;text-align: center;}#sk-container-id-1 label.sk-toggleable__label-arrow:before {content: \"▸\";float: left;margin-right: 0.25em;color: #696969;}#sk-container-id-1 label.sk-toggleable__label-arrow:hover:before {color: black;}#sk-container-id-1 div.sk-estimator:hover label.sk-toggleable__label-arrow:before {color: black;}#sk-container-id-1 div.sk-toggleable__content {max-height: 0;max-width: 0;overflow: hidden;text-align: left;background-color: #f0f8ff;}#sk-container-id-1 div.sk-toggleable__content pre {margin: 0.2em;color: black;border-radius: 0.25em;background-color: #f0f8ff;}#sk-container-id-1 input.sk-toggleable__control:checked~div.sk-toggleable__content {max-height: 200px;max-width: 100%;overflow: auto;}#sk-container-id-1 input.sk-toggleable__control:checked~label.sk-toggleable__label-arrow:before {content: \"▾\";}#sk-container-id-1 div.sk-estimator input.sk-toggleable__control:checked~label.sk-toggleable__label {background-color: #d4ebff;}#sk-container-id-1 div.sk-label input.sk-toggleable__control:checked~label.sk-toggleable__label {background-color: #d4ebff;}#sk-container-id-1 input.sk-hidden--visually {border: 0;clip: rect(1px 1px 1px 1px);clip: rect(1px, 1px, 1px, 1px);height: 1px;margin: -1px;overflow: hidden;padding: 0;position: absolute;width: 1px;}#sk-container-id-1 div.sk-estimator {font-family: monospace;background-color: #f0f8ff;border: 1px dotted black;border-radius: 0.25em;box-sizing: border-box;margin-bottom: 0.5em;}#sk-container-id-1 div.sk-estimator:hover {background-color: #d4ebff;}#sk-container-id-1 div.sk-parallel-item::after {content: \"\";width: 100%;border-bottom: 1px solid gray;flex-grow: 1;}#sk-container-id-1 div.sk-label:hover label.sk-toggleable__label {background-color: #d4ebff;}#sk-container-id-1 div.sk-serial::before {content: \"\";position: absolute;border-left: 1px solid gray;box-sizing: border-box;top: 0;bottom: 0;left: 50%;z-index: 0;}#sk-container-id-1 div.sk-serial {display: flex;flex-direction: column;align-items: center;background-color: white;padding-right: 0.2em;padding-left: 0.2em;position: relative;}#sk-container-id-1 div.sk-item {position: relative;z-index: 1;}#sk-container-id-1 div.sk-parallel {display: flex;align-items: stretch;justify-content: center;background-color: white;position: relative;}#sk-container-id-1 div.sk-item::before, #sk-container-id-1 div.sk-parallel-item::before {content: \"\";position: absolute;border-left: 1px solid gray;box-sizing: border-box;top: 0;bottom: 0;left: 50%;z-index: -1;}#sk-container-id-1 div.sk-parallel-item {display: flex;flex-direction: column;z-index: 1;position: relative;background-color: white;}#sk-container-id-1 div.sk-parallel-item:first-child::after {align-self: flex-end;width: 50%;}#sk-container-id-1 div.sk-parallel-item:last-child::after {align-self: flex-start;width: 50%;}#sk-container-id-1 div.sk-parallel-item:only-child::after {width: 0;}#sk-container-id-1 div.sk-dashed-wrapped {border: 1px dashed gray;margin: 0 0.4em 0.5em 0.4em;box-sizing: border-box;padding-bottom: 0.4em;background-color: white;}#sk-container-id-1 div.sk-label label {font-family: monospace;font-weight: bold;display: inline-block;line-height: 1.2em;}#sk-container-id-1 div.sk-label-container {text-align: center;}#sk-container-id-1 div.sk-container {/* jupyter's `normalize.less` sets `[hidden] { display: none; }` but bootstrap.min.css set `[hidden] { display: none !important; }` so we also need the `!important` here to be able to override the default hidden behavior on the sphinx rendered scikit-learn.org. See: https://github.com/scikit-learn/scikit-learn/issues/21755 */display: inline-block !important;position: relative;}#sk-container-id-1 div.sk-text-repr-fallback {display: none;}</style><div id=\"sk-container-id-1\" class=\"sk-top-container\"><div class=\"sk-text-repr-fallback\"><pre>LinearRegression()</pre><b>In a Jupyter environment, please rerun this cell to show the HTML representation or trust the notebook. <br />On GitHub, the HTML representation is unable to render, please try loading this page with nbviewer.org.</b></div><div class=\"sk-container\" hidden><div class=\"sk-item\"><div class=\"sk-estimator sk-toggleable\"><input class=\"sk-toggleable__control sk-hidden--visually\" id=\"sk-estimator-id-1\" type=\"checkbox\" checked><label for=\"sk-estimator-id-1\" class=\"sk-toggleable__label sk-toggleable__label-arrow\">LinearRegression</label><div class=\"sk-toggleable__content\"><pre>LinearRegression()</pre></div></div></div></div></div>"
            ]
          },
          "metadata": {},
          "execution_count": 5
        }
      ]
    },
    {
      "cell_type": "code",
      "source": [
        "y_pred = model.predict(X_test)\n"
      ],
      "metadata": {
        "id": "L8scDwDrx9nk"
      },
      "execution_count": 6,
      "outputs": []
    },
    {
      "cell_type": "code",
      "source": [
        "mse = mean_squared_error(y_test, y_pred)\n",
        "r2 = r2_score(y_test, y_pred)\n"
      ],
      "metadata": {
        "id": "fq9WRJmoyALV"
      },
      "execution_count": 7,
      "outputs": []
    },
    {
      "cell_type": "code",
      "source": [
        "print(\"Coefficients:\", model.coef_)\n",
        "print(\"Intercept:\", model.intercept_)\n",
        "print(\"Mean squared error: {:.4f}\".format(mse))\n",
        "print(\"R-squared score: {:.4f}\".format(r2))\n"
      ],
      "metadata": {
        "colab": {
          "base_uri": "https://localhost:8080/"
        },
        "id": "sb5sJqVbyDy4",
        "outputId": "54452aa1-7180-4943-bf72-c0b30e624a9f"
      },
      "execution_count": 8,
      "outputs": [
        {
          "output_type": "stream",
          "name": "stdout",
          "text": [
            "Coefficients: [2.98687598 1.47600782 0.5087117 ]\n",
            "Intercept: 2.0016337012470977\n",
            "Mean squared error: 0.0110\n",
            "R-squared score: 0.9883\n"
          ]
        }
      ]
    },
    {
      "cell_type": "code",
      "source": [
        "plt.figure(figsize=(18, 5))\n",
        "plt.subplot(121)\n",
        "plt.scatter(y_test, y_pred, color='blue')\n",
        "plt.plot([y_test.min(), y_test.max()], [y_test.min(), y_test.max()], 'r--', lw=2)\n",
        "plt.xlabel(\"Actual Values\")\n",
        "plt.ylabel(\"Predicted Values\")\n",
        "plt.title(\"Predicted vs Actual Values\")\n",
        "plt.grid(True)\n",
        "plt.tight_layout()\n",
        "plt.show()\n"
      ],
      "metadata": {
        "colab": {
          "base_uri": "https://localhost:8080/",
          "height": 359
        },
        "id": "Ws5EfZsSysPw",
        "outputId": "2d3a97c3-ec22-4580-e46d-063b638ab6ea"
      },
      "execution_count": 10,
      "outputs": [
        {
          "output_type": "display_data",
          "data": {
            "text/plain": [
              "<Figure size 1800x500 with 1 Axes>"
            ],
            "image/png": "[encoded data removed]"
          },
          "metadata": {}
        }
      ]
    }
  ]
}
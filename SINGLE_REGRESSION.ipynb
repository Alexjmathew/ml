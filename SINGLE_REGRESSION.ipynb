{
  "nbformat": 4,
  "nbformat_minor": 0,
  "metadata": {
    "colab": {
      "provenance": []
    },
    "kernelspec": {
      "name": "python3",
      "display_name": "Python 3"
    },
    "language_info": {
      "name": "python"
    }
  },
  "cells": [
    {
      "cell_type": "code",
      "execution_count": null,
      "metadata": {
        "id": "NO-6x9Q--8Vd"
      },
      "outputs": [],
      "source": [
        "import pandas as pd\n",
        "import numpy as np\n",
        "from sklearn.linear_model import LinearRegression\n",
        "from sklearn.metrics import mean_squared_error, r2_score\n",
        "import matplotlib.pyplot as plt\n",
        "\n",
        "data = pd.read_csv('training_data.csv')\n",
        "X = data['X'].values.reshape(-1, 1)\n",
        "Y = data['Y'].values\n",
        "\n",
        "model = LinearRegression()\n",
        "model.fit(X, Y)\n",
        "\n",
        "Y_pred = model.predict(X)\n",
        "mse = mean_squared_error(Y, Y_pred)\n",
        "r2 = r2_score(Y, Y_pred)\n",
        "\n",
        "plt.scatter(X, Y, label='Data')\n",
        "plt.plot(X, Y_pred, color='red', label='Regression Line')\n",
        "plt.xlabel('X')\n",
        "plt.ylabel('Y')\n",
        "plt.title('Single Linear Regression')\n",
        "plt.legend()\n",
        "plt.show()\n"
      ]
    }
  ]
}